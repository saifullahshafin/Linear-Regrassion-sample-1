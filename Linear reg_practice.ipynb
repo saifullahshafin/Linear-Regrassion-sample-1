{
 "cells": [
  {
   "cell_type": "markdown",
   "id": "e0c50f10",
   "metadata": {},
   "source": [
    "# Result \n",
    "1. Outlier droped\n",
    "2. Model is trained"
   ]
  },
  {
   "cell_type": "code",
   "execution_count": 1,
   "id": "72945a0f",
   "metadata": {},
   "outputs": [],
   "source": [
    "import numpy as np \n",
    "import pandas as pd\n",
    "import matplotlib.pyplot as plt\n",
    "import seaborn as sns\n",
    "from sklearn.model_selection import train_test_split as tts\n",
    "from sklearn.linear_model import LinearRegression\n",
    "%matplotlib inline\n",
    "\n",
    "import warnings as w\n",
    "w.filterwarnings('ignore')"
   ]
  },
  {
   "cell_type": "code",
   "execution_count": 2,
   "id": "d1e79fc5",
   "metadata": {},
   "outputs": [],
   "source": [
    "train=pd.read_csv('trainlr.csv')\n",
    "test=pd.read_csv('testlr.csv')"
   ]
  },
  {
   "cell_type": "code",
   "execution_count": 3,
   "id": "c6e40327",
   "metadata": {},
   "outputs": [
    {
     "data": {
      "text/html": [
       "<div>\n",
       "<style scoped>\n",
       "    .dataframe tbody tr th:only-of-type {\n",
       "        vertical-align: middle;\n",
       "    }\n",
       "\n",
       "    .dataframe tbody tr th {\n",
       "        vertical-align: top;\n",
       "    }\n",
       "\n",
       "    .dataframe thead th {\n",
       "        text-align: right;\n",
       "    }\n",
       "</style>\n",
       "<table border=\"1\" class=\"dataframe\">\n",
       "  <thead>\n",
       "    <tr style=\"text-align: right;\">\n",
       "      <th></th>\n",
       "      <th>x</th>\n",
       "      <th>y</th>\n",
       "    </tr>\n",
       "  </thead>\n",
       "  <tbody>\n",
       "    <tr>\n",
       "      <th>0</th>\n",
       "      <td>24.0</td>\n",
       "      <td>21.549452</td>\n",
       "    </tr>\n",
       "    <tr>\n",
       "      <th>1</th>\n",
       "      <td>50.0</td>\n",
       "      <td>47.464463</td>\n",
       "    </tr>\n",
       "    <tr>\n",
       "      <th>2</th>\n",
       "      <td>15.0</td>\n",
       "      <td>17.218656</td>\n",
       "    </tr>\n",
       "    <tr>\n",
       "      <th>3</th>\n",
       "      <td>38.0</td>\n",
       "      <td>36.586398</td>\n",
       "    </tr>\n",
       "    <tr>\n",
       "      <th>4</th>\n",
       "      <td>87.0</td>\n",
       "      <td>87.288984</td>\n",
       "    </tr>\n",
       "  </tbody>\n",
       "</table>\n",
       "</div>"
      ],
      "text/plain": [
       "      x          y\n",
       "0  24.0  21.549452\n",
       "1  50.0  47.464463\n",
       "2  15.0  17.218656\n",
       "3  38.0  36.586398\n",
       "4  87.0  87.288984"
      ]
     },
     "execution_count": 3,
     "metadata": {},
     "output_type": "execute_result"
    }
   ],
   "source": [
    "train.head()"
   ]
  },
  {
   "cell_type": "code",
   "execution_count": 4,
   "id": "be2b143b",
   "metadata": {},
   "outputs": [],
   "source": [
    "xtrain=train['x']\n",
    "ytrain=train['y']"
   ]
  },
  {
   "cell_type": "code",
   "execution_count": 5,
   "id": "e7a69b96",
   "metadata": {},
   "outputs": [
    {
     "data": {
      "text/plain": [
       "<AxesSubplot:xlabel='x', ylabel='Count'>"
      ]
     },
     "execution_count": 5,
     "metadata": {},
     "output_type": "execute_result"
    },
    {
     "data": {
      "image/png": "[encoded data removed]",
      "text/plain": [
       "<Figure size 432x288 with 1 Axes>"
      ]
     },
     "metadata": {
      "needs_background": "light"
     },
     "output_type": "display_data"
    }
   ],
   "source": [
    "sns.histplot(xtrain, bins=200)"
   ]
  },
  {
   "cell_type": "code",
   "execution_count": 6,
   "id": "2f66f23a",
   "metadata": {},
   "outputs": [
    {
     "data": {
      "text/plain": [
       "<AxesSubplot:xlabel='x'>"
      ]
     },
     "execution_count": 6,
     "metadata": {},
     "output_type": "execute_result"
    },
    {
     "data": {
      "image/png": "[encoded data removed]",
      "text/plain": [
       "<Figure size 432x288 with 1 Axes>"
      ]
     },
     "metadata": {
      "needs_background": "light"
     },
     "output_type": "display_data"
    }
   ],
   "source": [
    "sns.boxplot(xtrain)"
   ]
  },
  {
   "cell_type": "markdown",
   "id": "1a90c06b",
   "metadata": {},
   "source": [
    "# Droping outliers"
   ]
  },
  {
   "cell_type": "code",
   "execution_count": 7,
   "id": "eba3f9b5",
   "metadata": {},
   "outputs": [
    {
     "data": {
      "text/plain": [
       "count     700.000000\n",
       "mean       54.985939\n",
       "std       134.681703\n",
       "min         0.000000\n",
       "25%        25.000000\n",
       "50%        49.000000\n",
       "75%        75.000000\n",
       "max      3530.157369\n",
       "Name: x, dtype: float64"
      ]
     },
     "execution_count": 7,
     "metadata": {},
     "output_type": "execute_result"
    }
   ],
   "source": [
    "xtrain.describe()"
   ]
  },
  {
   "cell_type": "code",
   "execution_count": 8,
   "id": "50ade8cf",
   "metadata": {},
   "outputs": [
    {
     "data": {
      "text/plain": [
       "54.98593909881429"
      ]
     },
     "execution_count": 8,
     "metadata": {},
     "output_type": "execute_result"
    }
   ],
   "source": [
    "mean=xtrain.mean()\n",
    "mean"
   ]
  },
  {
   "cell_type": "code",
   "execution_count": 9,
   "id": "32cb4452",
   "metadata": {},
   "outputs": [
    {
     "data": {
      "text/plain": [
       "134.68170287857296"
      ]
     },
     "execution_count": 9,
     "metadata": {},
     "output_type": "execute_result"
    }
   ],
   "source": [
    "std=xtrain.std()\n",
    "std"
   ]
  },
  {
   "cell_type": "code",
   "execution_count": 10,
   "id": "fccfde3a",
   "metadata": {},
   "outputs": [],
   "source": [
    "sorted_data=sorted(xtrain)"
   ]
  },
  {
   "cell_type": "code",
   "execution_count": 11,
   "id": "d18a4627",
   "metadata": {},
   "outputs": [
    {
     "data": {
      "text/plain": [
       "(25.0, 75.0)"
      ]
     },
     "execution_count": 11,
     "metadata": {},
     "output_type": "execute_result"
    }
   ],
   "source": [
    "q1,q3=np.percentile(xtrain,[25,75])\n",
    "q1,q3"
   ]
  },
  {
   "cell_type": "code",
   "execution_count": 12,
   "id": "3cbb09fe",
   "metadata": {},
   "outputs": [
    {
     "data": {
      "text/plain": [
       "50.0"
      ]
     },
     "execution_count": 12,
     "metadata": {},
     "output_type": "execute_result"
    }
   ],
   "source": [
    "IQR=q3-q1\n",
    "IQR"
   ]
  },
  {
   "cell_type": "code",
   "execution_count": 13,
   "id": "69c7ee08",
   "metadata": {},
   "outputs": [
    {
     "data": {
      "text/plain": [
       "(-50.0, 150.0)"
      ]
     },
     "execution_count": 13,
     "metadata": {},
     "output_type": "execute_result"
    }
   ],
   "source": [
    "left_fence=q1-1.5*IQR\n",
    "right_fence=q3+1.5*IQR\n",
    "left_fence,right_fence"
   ]
  },
  {
   "cell_type": "code",
   "execution_count": 14,
   "id": "a8256092",
   "metadata": {},
   "outputs": [],
   "source": [
    "i=xtrain"
   ]
  },
  {
   "cell_type": "code",
   "execution_count": 15,
   "id": "4f560979",
   "metadata": {},
   "outputs": [
    {
     "data": {
      "text/html": [
       "<div>\n",
       "<style scoped>\n",
       "    .dataframe tbody tr th:only-of-type {\n",
       "        vertical-align: middle;\n",
       "    }\n",
       "\n",
       "    .dataframe tbody tr th {\n",
       "        vertical-align: top;\n",
       "    }\n",
       "\n",
       "    .dataframe thead th {\n",
       "        text-align: right;\n",
       "    }\n",
       "</style>\n",
       "<table border=\"1\" class=\"dataframe\">\n",
       "  <thead>\n",
       "    <tr style=\"text-align: right;\">\n",
       "      <th></th>\n",
       "      <th>x</th>\n",
       "      <th>y</th>\n",
       "    </tr>\n",
       "  </thead>\n",
       "  <tbody>\n",
       "  </tbody>\n",
       "</table>\n",
       "</div>"
      ],
      "text/plain": [
       "Empty DataFrame\n",
       "Columns: [x, y]\n",
       "Index: []"
      ]
     },
     "execution_count": 15,
     "metadata": {},
     "output_type": "execute_result"
    }
   ],
   "source": [
    "outlier=train[(i<left_fence)&(i>right_fence)]\n",
    "outlier"
   ]
  },
  {
   "cell_type": "code",
   "execution_count": 16,
   "id": "f68bb9d6",
   "metadata": {},
   "outputs": [
    {
     "data": {
      "text/html": [
       "<div>\n",
       "<style scoped>\n",
       "    .dataframe tbody tr th:only-of-type {\n",
       "        vertical-align: middle;\n",
       "    }\n",
       "\n",
       "    .dataframe tbody tr th {\n",
       "        vertical-align: top;\n",
       "    }\n",
       "\n",
       "    .dataframe thead th {\n",
       "        text-align: right;\n",
       "    }\n",
       "</style>\n",
       "<table border=\"1\" class=\"dataframe\">\n",
       "  <thead>\n",
       "    <tr style=\"text-align: right;\">\n",
       "      <th></th>\n",
       "      <th>x</th>\n",
       "      <th>y</th>\n",
       "    </tr>\n",
       "  </thead>\n",
       "  <tbody>\n",
       "    <tr>\n",
       "      <th>0</th>\n",
       "      <td>24.0</td>\n",
       "      <td>21.549452</td>\n",
       "    </tr>\n",
       "    <tr>\n",
       "      <th>1</th>\n",
       "      <td>50.0</td>\n",
       "      <td>47.464463</td>\n",
       "    </tr>\n",
       "    <tr>\n",
       "      <th>2</th>\n",
       "      <td>15.0</td>\n",
       "      <td>17.218656</td>\n",
       "    </tr>\n",
       "    <tr>\n",
       "      <th>3</th>\n",
       "      <td>38.0</td>\n",
       "      <td>36.586398</td>\n",
       "    </tr>\n",
       "    <tr>\n",
       "      <th>4</th>\n",
       "      <td>87.0</td>\n",
       "      <td>87.288984</td>\n",
       "    </tr>\n",
       "    <tr>\n",
       "      <th>...</th>\n",
       "      <td>...</td>\n",
       "      <td>...</td>\n",
       "    </tr>\n",
       "    <tr>\n",
       "      <th>695</th>\n",
       "      <td>58.0</td>\n",
       "      <td>58.595006</td>\n",
       "    </tr>\n",
       "    <tr>\n",
       "      <th>696</th>\n",
       "      <td>93.0</td>\n",
       "      <td>94.625094</td>\n",
       "    </tr>\n",
       "    <tr>\n",
       "      <th>697</th>\n",
       "      <td>82.0</td>\n",
       "      <td>88.603770</td>\n",
       "    </tr>\n",
       "    <tr>\n",
       "      <th>698</th>\n",
       "      <td>66.0</td>\n",
       "      <td>63.648685</td>\n",
       "    </tr>\n",
       "    <tr>\n",
       "      <th>699</th>\n",
       "      <td>97.0</td>\n",
       "      <td>94.975266</td>\n",
       "    </tr>\n",
       "  </tbody>\n",
       "</table>\n",
       "<p>699 rows × 2 columns</p>\n",
       "</div>"
      ],
      "text/plain": [
       "        x          y\n",
       "0    24.0  21.549452\n",
       "1    50.0  47.464463\n",
       "2    15.0  17.218656\n",
       "3    38.0  36.586398\n",
       "4    87.0  87.288984\n",
       "..    ...        ...\n",
       "695  58.0  58.595006\n",
       "696  93.0  94.625094\n",
       "697  82.0  88.603770\n",
       "698  66.0  63.648685\n",
       "699  97.0  94.975266\n",
       "\n",
       "[699 rows x 2 columns]"
      ]
     },
     "execution_count": 16,
     "metadata": {},
     "output_type": "execute_result"
    }
   ],
   "source": [
    "no_outlier=train[(i>left_fence)&(i<right_fence)]\n",
    "no_outlier"
   ]
  },
  {
   "cell_type": "code",
   "execution_count": 57,
   "id": "e21cad26",
   "metadata": {},
   "outputs": [
    {
     "data": {
      "image/png": "[encoded data removed]",
      "text/plain": [
       "<Figure size 432x288 with 1 Axes>"
      ]
     },
     "metadata": {
      "needs_background": "light"
     },
     "output_type": "display_data"
    }
   ],
   "source": [
    "sns.boxplot(no_outlier.y);"
   ]
  },
  {
   "cell_type": "code",
   "execution_count": 18,
   "id": "7b7c2f27",
   "metadata": {},
   "outputs": [],
   "source": [
    "xtrain=no_outlier[['x']]\n",
    "ytrain=no_outlier['y']\n",
    "train=no_outlier"
   ]
  },
  {
   "cell_type": "code",
   "execution_count": 58,
   "id": "73b66657",
   "metadata": {},
   "outputs": [
    {
     "data": {
      "image/png": "[encoded data removed]",
      "text/plain": [
       "<Figure size 432x288 with 1 Axes>"
      ]
     },
     "metadata": {
      "needs_background": "light"
     },
     "output_type": "display_data"
    }
   ],
   "source": [
    "sns.histplot(xtrain);"
   ]
  },
  {
   "cell_type": "code",
   "execution_count": 20,
   "id": "9b743ea4",
   "metadata": {},
   "outputs": [],
   "source": [
    "lr=LinearRegression()"
   ]
  },
  {
   "cell_type": "code",
   "execution_count": 21,
   "id": "596d87fc",
   "metadata": {},
   "outputs": [
    {
     "data": {
      "text/plain": [
       "LinearRegression()"
      ]
     },
     "execution_count": 21,
     "metadata": {},
     "output_type": "execute_result"
    }
   ],
   "source": [
    "lr.fit(xtrain,ytrain)"
   ]
  },
  {
   "cell_type": "code",
   "execution_count": 22,
   "id": "5ce092bf",
   "metadata": {},
   "outputs": [
    {
     "data": {
      "text/html": [
       "<div>\n",
       "<style scoped>\n",
       "    .dataframe tbody tr th:only-of-type {\n",
       "        vertical-align: middle;\n",
       "    }\n",
       "\n",
       "    .dataframe tbody tr th {\n",
       "        vertical-align: top;\n",
       "    }\n",
       "\n",
       "    .dataframe thead th {\n",
       "        text-align: right;\n",
       "    }\n",
       "</style>\n",
       "<table border=\"1\" class=\"dataframe\">\n",
       "  <thead>\n",
       "    <tr style=\"text-align: right;\">\n",
       "      <th></th>\n",
       "      <th>x</th>\n",
       "      <th>y</th>\n",
       "    </tr>\n",
       "  </thead>\n",
       "  <tbody>\n",
       "    <tr>\n",
       "      <th>0</th>\n",
       "      <td>24.0</td>\n",
       "      <td>21.549452</td>\n",
       "    </tr>\n",
       "    <tr>\n",
       "      <th>1</th>\n",
       "      <td>50.0</td>\n",
       "      <td>47.464463</td>\n",
       "    </tr>\n",
       "    <tr>\n",
       "      <th>2</th>\n",
       "      <td>15.0</td>\n",
       "      <td>17.218656</td>\n",
       "    </tr>\n",
       "    <tr>\n",
       "      <th>3</th>\n",
       "      <td>38.0</td>\n",
       "      <td>36.586398</td>\n",
       "    </tr>\n",
       "    <tr>\n",
       "      <th>4</th>\n",
       "      <td>87.0</td>\n",
       "      <td>87.288984</td>\n",
       "    </tr>\n",
       "  </tbody>\n",
       "</table>\n",
       "</div>"
      ],
      "text/plain": [
       "      x          y\n",
       "0  24.0  21.549452\n",
       "1  50.0  47.464463\n",
       "2  15.0  17.218656\n",
       "3  38.0  36.586398\n",
       "4  87.0  87.288984"
      ]
     },
     "execution_count": 22,
     "metadata": {},
     "output_type": "execute_result"
    }
   ],
   "source": [
    "train.head()"
   ]
  },
  {
   "cell_type": "code",
   "execution_count": 23,
   "id": "8ae011bd",
   "metadata": {},
   "outputs": [
    {
     "data": {
      "text/plain": [
       "array([14.90258026])"
      ]
     },
     "execution_count": 23,
     "metadata": {},
     "output_type": "execute_result"
    }
   ],
   "source": [
    "lr.predict([[15]])"
   ]
  },
  {
   "cell_type": "code",
   "execution_count": 24,
   "id": "c3b0dde2",
   "metadata": {},
   "outputs": [],
   "source": [
    "x=xtrain"
   ]
  },
  {
   "cell_type": "code",
   "execution_count": 25,
   "id": "40a7efe4",
   "metadata": {},
   "outputs": [
    {
     "data": {
      "text/plain": [
       "array([23.9084877 , 49.92555363, 14.90258026, 37.91767705, 86.94983976,\n",
       "       35.91636428, 11.90061112, 80.94590147, 24.90914408,  4.89601644,\n",
       "       15.90323665, 15.90323665, 23.9084877 , 38.91833343, 53.92817916,\n",
       "       59.93211745, 25.90980046, 72.94065041, 28.91176961, 30.91308237,\n",
       "       67.9373685 , 86.94983976, 57.93080468, 53.92817916, 83.94787061,\n",
       "       57.93080468, 48.92489725, 19.90586217, 89.9518089 , 47.92424086,\n",
       "        3.89536006, 24.90914408, 41.92030257, -0.10726546, 59.93211745,\n",
       "       92.95377805, 38.91833343,  6.89732921, 20.90651855, 67.9373685 ,\n",
       "       83.94787061, -0.10726546, 57.93080468, 18.90520579, 35.91636428,\n",
       "       18.90520579, 58.93146107, 50.92621001, 18.90520579, 32.91439514,\n",
       "       84.94852699, 43.92161534,  4.89601644, 58.93146107, 13.90192388,\n",
       "        8.89864197, 74.94196317, 68.93802488,  9.89929835, 16.90389303,\n",
       "       57.93080468, 73.94130679, 20.90651855, 50.92621001, 18.90520579,\n",
       "       49.92555363, 23.9084877 , -0.10726546, 11.90061112, 74.94196317,\n",
       "       20.90651855, 63.93474297,  4.89601644, 57.93080468, 31.91373876,\n",
       "       40.91964619,  6.89732921,  3.89536006,  4.89601644, 48.92489725,\n",
       "       89.9518089 ,  2.89470368, 10.89995474, 31.91373876, 82.94721423,\n",
       "       24.90914408, 82.94721423, 25.90980046, 75.94261956, 94.95509081,\n",
       "       52.92752277, 76.94327594, 41.92030257, 24.90914408, 53.92817916,\n",
       "       54.92883554, -0.10726546, 72.94065041, 34.9157079 , 85.94918338,\n",
       "       89.9518089 , 12.9012675 , 45.9229281 , 45.9229281 , 31.91373876,\n",
       "        7.89798559, 70.93933765, 27.91111323, 23.9084877 , 55.92949192,\n",
       "       48.92489725, 78.9445887 , 89.9518089 , 88.95115252, 40.91964619,\n",
       "       26.91045685, 57.93080468, 25.90980046, 30.91308237, 69.93868127,\n",
       "       70.93933765, 38.91833343,  6.89732921, 47.92424086, 55.92949192,\n",
       "       44.92227172, 40.91964619,  2.89470368, 36.91702066, 23.9084877 ,\n",
       "       67.9373685 , 46.92358448, 26.91045685, 67.9373685 , 73.94130679,\n",
       "       94.95509081, 78.9445887 , 20.90651855, 94.95509081, 53.92817916,\n",
       "       55.92949192, 79.94524508, 25.90980046, 24.90914408,  7.89798559,\n",
       "       94.95509081, 93.95443443, 53.92817916,  6.89732921, 98.95771634,\n",
       "       35.91636428, 47.92424086, 64.93539936, 41.92030257, 92.95377805,\n",
       "       85.94918338, 25.90980046, 50.92621001, 99.95837272, 93.95443443,\n",
       "        5.89667283, 23.9084877 , 74.94196317,  6.89732921, 52.92752277,\n",
       "       72.94065041, 15.90323665, 79.94524508, 76.94327594, 88.95115252,\n",
       "       79.94524508, 54.92883554, 18.90520579, 55.92949192, 46.92358448,\n",
       "       55.92949192,  1.8940473 , 81.94655785, 56.9301483 , 43.92161534,\n",
       "       25.90980046, 51.92686639, 40.91964619, 43.92161534,  2.89470368,\n",
       "       30.91308237, 96.95640358, 20.90651855, 16.90389303,  6.89732921,\n",
       "       60.93277383,  9.89929835, 51.92686639,  9.89929835, 64.93539936,\n",
       "       70.93933765,  3.89536006, 23.9084877 , 25.90980046, 50.92621001,\n",
       "       41.92030257, 61.93343021, 73.94130679, 76.94327594,  2.89470368,\n",
       "       49.92555363, 23.9084877 , 36.91702066, 57.93080468, 51.92686639,\n",
       "       26.91045685, 13.90192388, 99.95837272, 71.93999403,  4.89601644,\n",
       "       70.93933765, 53.92817916, 83.94787061, 41.92030257, 53.92817916,\n",
       "       73.94130679, 53.92817916, 52.92752277, 77.94393232, 96.95640358,\n",
       "       48.92489725, 70.93933765, 47.92424086, 50.92621001, 88.95115252,\n",
       "       98.95771634, 92.95377805, 48.92489725, 17.90454941, 64.93539936,\n",
       "       82.94721423, 99.95837272, 40.91964619, 51.92686639, 28.91176961,\n",
       "       96.95640358,  6.89732921, 50.92621001, 57.93080468, 49.92555363,\n",
       "       66.93671212, 88.95115252, 75.94261956, 34.9157079 , 98.95771634,\n",
       "       30.91308237, 51.92686639, 10.89995474, 65.93605574, 49.92555363,\n",
       "       38.91833343, 59.93211745, 34.9157079 , 52.92752277, 13.90192388,\n",
       "       48.92489725, 15.90323665, 75.94261956, 12.9012675 , 50.92621001,\n",
       "       69.93868127, 97.95705996, 85.94918338, 99.95837272, 45.9229281 ,\n",
       "       50.92621001, 49.92555363, 90.95246528, 47.92424086, 80.94590147,\n",
       "       37.91767705, 39.91898981, 78.9445887 , 95.95574719, 59.93211745,\n",
       "       69.93868127, 43.92161534, 10.89995474,  5.89667283,  4.89601644,\n",
       "       71.93999403, 54.92883554, 94.95509081, 40.91964619, 24.90914408,\n",
       "        0.89339092, 54.92883554,  3.89536006, 47.92424086, 54.92883554,\n",
       "       74.94196317, 67.9373685 , 99.95837272, 24.90914408, 74.94196317,\n",
       "       33.91505152, 37.91767705, 91.95312167, 20.90651855, 87.95049614,\n",
       "       74.94196317, 75.94261956, 43.92161534,  9.89929835, 20.90651855,\n",
       "       15.90323665, 31.91373876, 12.9012675 , 25.90980046, 69.93868127,\n",
       "       76.94327594, 76.94327594, 87.95049614, 34.9157079 , 23.9084877 ,\n",
       "       16.90389303, 90.95246528, 31.91373876, 35.91636428, 88.95115252,\n",
       "       68.93802488, 29.91242599,  5.89667283, 21.90717494, 66.93671212,\n",
       "        8.89864197, 73.94130679, 49.92555363, 84.94852699,  2.89470368,\n",
       "       -0.10726546, 58.93146107, 61.93343021, 16.90389303, 89.9518089 ,\n",
       "       22.90783132, 18.90520579, 92.95377805, 13.90192388, 57.93080468,\n",
       "       86.94983976, 36.91702066, 19.90586217, 34.9157079 , 62.93408659,\n",
       "       55.92949192, 61.93343021, 97.95705996, 89.9518089 , 50.92621001,\n",
       "       92.95377805, 21.90717494, 37.91767705, 12.9012675 , 97.95705996,\n",
       "       98.95771634, 30.91308237, 93.95443443, 72.94065041, 36.91702066,\n",
       "       22.90783132, 10.89995474, 87.95049614, 46.92358448, 78.9445887 ,\n",
       "       90.95246528, 70.93933765,  9.89929835, 38.91833343, 91.95312167,\n",
       "       98.95771634, 27.91111323, 31.91373876, 31.91373876, 74.94196317,\n",
       "       98.95771634, 26.91045685, 63.93474297, 97.95705996, 37.91767705,\n",
       "       45.9229281 , 12.9012675 , 95.95574719,  8.89864197, 33.91505152,\n",
       "       48.92489725,  0.89339092, 49.92555363, 93.95443443, 26.91045685,\n",
       "       19.90586217, 11.90061112, 44.92227172, 90.95246528, 60.93277383,\n",
       "        9.89929835, 46.92358448, 32.91439514, 83.94787061, 23.9084877 ,\n",
       "       47.92424086, 47.92424086,  8.89864197, 92.95377805, 98.95771634,\n",
       "        7.89798559, 19.90586217, 37.91767705, 77.94393232, 80.94590147,\n",
       "       41.92030257, 94.95509081, 77.94393232, 43.92161534, 67.9373685 ,\n",
       "       86.94983976, 57.93080468, 51.92686639, 25.90980046, 74.94196317,\n",
       "       47.92424086, 70.93933765, 76.94327594, 33.91505152, 23.9084877 ,\n",
       "       69.93868127, 28.91176961, 75.94261956, 97.95705996, 27.91111323,\n",
       "       86.94983976,  8.89864197, 86.94983976, 32.91439514, 63.93474297,\n",
       "       16.90389303, 48.92489725, 94.95509081, 74.94196317, 88.95115252,\n",
       "       80.94590147, 24.90914408, 46.92358448, 49.92555363,  4.89601644,\n",
       "       67.9373685 , 83.94787061,  7.89798559, 40.91964619, 25.90980046,\n",
       "       88.95115252, 77.94393232, 33.91505152, 91.95312167, 26.91045685,\n",
       "       11.90061112,  1.8940473 , 21.90717494, -0.10726546, 25.90980046,\n",
       "       49.92555363, 83.94787061, 69.93868127, 65.93605574, 41.92030257,\n",
       "       18.90520579, 93.95443443, 70.93933765, 18.90520579, 15.90323665,\n",
       "       48.92489725, 28.91176961, 28.91176961, 85.94918338, 49.92555363,\n",
       "       85.94918338, 29.91242599, 22.90783132, 19.90586217, 15.90323665,\n",
       "       56.9301483 ,  7.89798559,  7.89798559, 61.93343021, 54.92883554,\n",
       "       29.91242599, 85.94918338, 61.93343021, 50.92621001, 60.93277383,\n",
       "       85.94918338, 60.93277383, 20.90651855, 80.94590147, 96.95640358,\n",
       "        4.89601644, 60.93277383, 46.92358448, 97.95705996, 29.91242599,\n",
       "       62.93408659, -0.10726546, 99.95837272, 17.90454941, 29.91242599,\n",
       "       97.95705996, 15.90323665, 21.90717494, 54.92883554, 42.92095896,\n",
       "       74.94196317, 90.95246528, 45.9229281 , 84.94852699, 54.92883554,\n",
       "       35.91636428, 48.92489725, 93.95443443, 42.92095896, 21.90717494,\n",
       "       36.91702066, 23.9084877 , 94.95509081, 60.93277383, 74.94196317,\n",
       "       67.9373685 , 57.93080468,  4.89601644, 52.92752277, 79.94524508,\n",
       "       82.94721423, 24.90914408, 33.91505152, 25.90980046, 89.9518089 ,\n",
       "       59.93211745, 48.92489725, 18.90520579, 91.95312167, 28.91176961,\n",
       "        7.89798559, 56.9301483 , 28.91176961, 18.90520579, 80.94590147,\n",
       "       49.92555363, 14.90258026, 69.93868127, 38.91833343, 42.92095896,\n",
       "       20.90651855, 97.95705996, 85.94918338, 15.90323665, 24.90914408,\n",
       "       30.91308237, 92.95377805, 66.93671212, 48.92489725, 24.90914408,\n",
       "       87.95049614, 53.92817916, 20.90651855,  7.89798559, 31.91373876,\n",
       "       34.9157079 , 66.93671212, 89.9518089 , 58.93146107, 14.90258026,\n",
       "       66.93671212, 41.92030257, 43.92161534, 76.94327594, 67.9373685 ,\n",
       "       35.91636428, 10.89995474,  9.89929835, 64.93539936, 97.95705996,\n",
       "       97.95705996, 48.92489725, 30.91308237, 55.92949192, 69.93868127,\n",
       "       90.95246528, 24.90914408, 53.92817916, 38.91833343, 90.95246528,\n",
       "        2.89470368, 21.90717494,  1.8940473 ,  1.8940473 , 64.93539936,\n",
       "       70.93933765, 41.92030257, 75.94261956, 42.92095896,  7.89798559,\n",
       "       85.94918338, 86.94983976,  2.89470368, 57.93080468, 61.93343021,\n",
       "       88.95115252, 94.95509081, 27.91111323, -0.10726546,  0.89339092,\n",
       "       48.92489725, 20.90651855, 45.9229281 , 10.89995474, 88.95115252,\n",
       "       36.91702066, 28.91176961, 43.92161534, 95.95574719, 15.90323665,\n",
       "       73.94130679, 34.9157079 , 41.92030257, 15.90323665, 55.92949192,\n",
       "       17.90454941, 99.95837272, 53.92817916, 91.95312167, 62.93408659,\n",
       "       80.94590147, 72.94065041, 47.92424086,  0.89339092, 84.94852699,\n",
       "       13.90192388, 24.90914408, 44.92227172, 97.95705996, 96.95640358,\n",
       "       57.93080468, 92.95377805, 87.95049614, 88.95115252, 46.92358448,\n",
       "        5.89667283, 33.91505152, 29.91242599, 15.90323665, 85.94918338,\n",
       "       39.91898981, 51.92686639, 14.90258026,  3.89536006, 94.95509081,\n",
       "       98.95771634, 34.9157079 , 57.93080468,  9.89929835, 15.90323665,\n",
       "       52.92752277, 57.93080468, 41.92030257, 23.9084877 , 83.94787061,\n",
       "       63.93474297, 11.90061112, 60.93277383, 74.94196317, 14.90258026,\n",
       "       99.95837272, 42.92095896, 12.9012675 , 47.92424086, 44.92227172,\n",
       "       51.92686639, 33.91505152, 29.91242599, 64.93539936, 99.95837272,\n",
       "       66.93671212, 98.95771634, 44.92227172, 86.94983976, 72.94065041,\n",
       "        8.89864197, 80.94590147, 71.93999403, 80.94590147, 57.93080468,\n",
       "       92.95377805, 81.94655785, 65.93605574, 96.95640358])"
      ]
     },
     "execution_count": 25,
     "metadata": {},
     "output_type": "execute_result"
    }
   ],
   "source": [
    "pred=lr.predict(x)\n",
    "pred"
   ]
  },
  {
   "cell_type": "code",
   "execution_count": 26,
   "id": "aaa3600d",
   "metadata": {},
   "outputs": [
    {
     "data": {
      "text/html": [
       "<div>\n",
       "<style scoped>\n",
       "    .dataframe tbody tr th:only-of-type {\n",
       "        vertical-align: middle;\n",
       "    }\n",
       "\n",
       "    .dataframe tbody tr th {\n",
       "        vertical-align: top;\n",
       "    }\n",
       "\n",
       "    .dataframe thead th {\n",
       "        text-align: right;\n",
       "    }\n",
       "</style>\n",
       "<table border=\"1\" class=\"dataframe\">\n",
       "  <thead>\n",
       "    <tr style=\"text-align: right;\">\n",
       "      <th></th>\n",
       "      <th>x</th>\n",
       "      <th>y</th>\n",
       "      <th>pred_result</th>\n",
       "    </tr>\n",
       "  </thead>\n",
       "  <tbody>\n",
       "    <tr>\n",
       "      <th>0</th>\n",
       "      <td>24.0</td>\n",
       "      <td>21.549452</td>\n",
       "      <td>23.908488</td>\n",
       "    </tr>\n",
       "    <tr>\n",
       "      <th>1</th>\n",
       "      <td>50.0</td>\n",
       "      <td>47.464463</td>\n",
       "      <td>49.925554</td>\n",
       "    </tr>\n",
       "    <tr>\n",
       "      <th>2</th>\n",
       "      <td>15.0</td>\n",
       "      <td>17.218656</td>\n",
       "      <td>14.902580</td>\n",
       "    </tr>\n",
       "    <tr>\n",
       "      <th>3</th>\n",
       "      <td>38.0</td>\n",
       "      <td>36.586398</td>\n",
       "      <td>37.917677</td>\n",
       "    </tr>\n",
       "    <tr>\n",
       "      <th>4</th>\n",
       "      <td>87.0</td>\n",
       "      <td>87.288984</td>\n",
       "      <td>86.949840</td>\n",
       "    </tr>\n",
       "  </tbody>\n",
       "</table>\n",
       "</div>"
      ],
      "text/plain": [
       "      x          y  pred_result\n",
       "0  24.0  21.549452    23.908488\n",
       "1  50.0  47.464463    49.925554\n",
       "2  15.0  17.218656    14.902580\n",
       "3  38.0  36.586398    37.917677\n",
       "4  87.0  87.288984    86.949840"
      ]
     },
     "execution_count": 26,
     "metadata": {},
     "output_type": "execute_result"
    }
   ],
   "source": [
    "train['pred_result']=pred\n",
    "train.head()"
   ]
  },
  {
   "cell_type": "code",
   "execution_count": 80,
   "id": "882379d0",
   "metadata": {},
   "outputs": [
    {
     "data": {
      "text/plain": [
       "[<matplotlib.lines.Line2D at 0x2a1f057b9d0>]"
      ]
     },
     "execution_count": 80,
     "metadata": {},
     "output_type": "execute_result"
    },
    {
     "data": {
      "image/png": "[encoded data removed]",
      "text/plain": [
       "<Figure size 432x288 with 1 Axes>"
      ]
     },
     "metadata": {
      "needs_background": "light"
     },
     "output_type": "display_data"
    }
   ],
   "source": [
    "plt.scatter(xtrain,pred,marker='^',color='cyan',linewidths=5,alpha=.5)\n",
    "plt.xlabel('X',size=20,color='red')\n",
    "plt.ylabel('Y',size=20,color='red')\n",
    "plt.title('Predicted outpot of train data',size=20);\n",
    "plt.grid()\n",
    "plt.plot(xtrain.squeeze(),pred ,color='black',alpha=.2)"
   ]
  },
  {
   "cell_type": "code",
   "execution_count": 28,
   "id": "4d463fdb",
   "metadata": {},
   "outputs": [
    {
     "data": {
      "text/plain": [
       "x    0\n",
       "y    0\n",
       "dtype: int64"
      ]
     },
     "execution_count": 28,
     "metadata": {},
     "output_type": "execute_result"
    }
   ],
   "source": [
    "test.isnull().sum()"
   ]
  },
  {
   "cell_type": "code",
   "execution_count": 44,
   "id": "d58a538b",
   "metadata": {},
   "outputs": [
    {
     "data": {
      "image/png": "[encoded data removed]",
      "text/plain": [
       "<Figure size 432x288 with 1 Axes>"
      ]
     },
     "metadata": {
      "needs_background": "light"
     },
     "output_type": "display_data"
    }
   ],
   "source": [
    "sns.boxplot(test.y);"
   ]
  },
  {
   "cell_type": "code",
   "execution_count": 30,
   "id": "dfce0544",
   "metadata": {},
   "outputs": [],
   "source": [
    "xtest=test[['x']]\n",
    "ytest=test['y']"
   ]
  },
  {
   "cell_type": "code",
   "execution_count": 31,
   "id": "8c6a62a2",
   "metadata": {},
   "outputs": [
    {
     "data": {
      "text/plain": [
       "LinearRegression()"
      ]
     },
     "execution_count": 31,
     "metadata": {},
     "output_type": "execute_result"
    }
   ],
   "source": [
    "lr.fit(xtest,ytest)"
   ]
  },
  {
   "cell_type": "code",
   "execution_count": 33,
   "id": "f97f5506",
   "metadata": {},
   "outputs": [],
   "source": [
    "pred1=lr.predict(xtest)"
   ]
  },
  {
   "cell_type": "code",
   "execution_count": 35,
   "id": "212083f8",
   "metadata": {},
   "outputs": [
    {
     "data": {
      "text/plain": [
       "array([ 77.64201157,  20.83923168,  21.85356704,  19.82489633,\n",
       "        36.05426201,  14.75321955,  62.42698124,  95.90004796,\n",
       "        19.82489633,   4.609866  ,   3.59553065,  18.81056097,\n",
       "        96.91438332,  62.42698124,  36.05426201,  14.75321955,\n",
       "        65.46998731,  13.7388842 ,  87.78536512,  69.52732873,\n",
       "        89.81403583,  51.26929234,  89.81403583,  26.92524381,\n",
       "        97.92871867,  58.36963982,  79.67068228,  20.83923168,\n",
       "        93.87137725,  26.92524381,  99.95738938,  30.98258524,\n",
       "        33.01125595,  80.68501764,  27.93957917,  47.21195092,\n",
       "        53.29796305,  69.52732873,  27.93957917,  33.01125595,\n",
       "        91.84270654,  71.55599944,  50.25495698,  76.62767622,\n",
       "         3.59553065,  37.06859737,  70.54166408,  68.51299337,\n",
       "        40.11160343,  35.03992666,  94.88571261,  88.79970048,\n",
       "        52.28362769,  30.98258524,  59.38397518,  -0.46181077,\n",
       "        39.09726808,  64.45565195,  69.52732873,  57.35530447,\n",
       "        12.72454884,  72.57033479,  76.62767622,  61.41264589,\n",
       "        82.71368835,  17.79622562,  41.12593879,  50.25495698,\n",
       "        55.32663376,  12.72454884,  46.19761556,  12.72454884,\n",
       "        79.67068228,  53.29796305,  14.75321955,  27.93957917,\n",
       "        81.69935299,  69.52732873,  52.28362769,  84.74235906,\n",
       "        68.51299337,  26.92524381,  56.34096911,  48.22628627,\n",
       "        40.11160343,  39.09726808,  82.71368835, 100.97172474,\n",
       "        59.38397518,  43.1546095 ,  67.49865802,  38.08293272,\n",
       "        63.4413166 ,  91.84270654,  60.39831053,  13.7388842 ,\n",
       "        20.83923168,  87.78536512,  73.58467015,  31.99692059,\n",
       "         1.56685994,  82.71368835,  18.81056097,  74.59900551,\n",
       "        42.14027414,  11.71021349,   0.55252458,  90.82837119,\n",
       "        89.81403583,  -0.46181077,  41.12593879,  15.76755491,\n",
       "        94.88571261,  97.92871867,  66.48432266,  23.88223775,\n",
       "        16.78189026,  90.82837119,  12.72454884,  -0.46181077,\n",
       "        64.45565195,  96.91438332,  98.94305403,  11.71021349,\n",
       "        41.12593879,  47.21195092,  78.65634693,  19.82489633,\n",
       "        89.81403583,  28.95391452,  64.45565195,  75.61334086,\n",
       "        11.71021349,  24.8965731 ,  27.93957917,  29.96824988,\n",
       "        65.46998731,  59.38397518,  64.45565195,  53.29796305,\n",
       "        71.55599944,  97.92871867,  73.58467015,   8.66720742,\n",
       "        11.71021349,  63.4413166 ,  99.95738938,  60.39831053,\n",
       "        35.03992666,   1.56685994,  60.39831053,  31.99692059,\n",
       "        94.88571261,  84.74235906,  63.4413166 ,  21.85356704,\n",
       "        81.69935299,  93.87137725,  33.01125595,   6.63853671,\n",
       "        42.14027414,  46.19761556,  54.3122984 ,  15.76755491,\n",
       "        49.24062163,  43.1546095 ,  95.90004796,  66.48432266,\n",
       "        20.83923168,  35.03992666,  80.68501764,  37.06859737,\n",
       "        54.3122984 ,  56.34096911,   0.55252458,  31.99692059,\n",
       "        58.36963982,  31.99692059,  46.19761556,  72.57033479,\n",
       "        16.78189026,  97.92871867,  93.87137725,  91.84270654,\n",
       "        37.06859737,   3.59553065,  54.3122984 ,  51.26929234,\n",
       "        26.92524381,  46.19761556,  92.8570419 ,  73.58467015,\n",
       "        77.64201157,  91.84270654,  61.41264589,  99.95738938,\n",
       "         3.59553065,  72.57033479,  18.81056097,  57.35530447,\n",
       "        78.65634693,  25.91090846,  74.59900551,  90.82837119,\n",
       "        66.48432266,  12.72454884,  40.11160343,  77.64201157,\n",
       "        67.49865802,  75.61334086,  22.86790239,  45.18328021,\n",
       "        59.38397518,  44.16894485,  22.86790239,  55.32663376,\n",
       "        55.32663376,  95.90004796,  11.71021349,   3.59553065,\n",
       "         6.63853671, 100.97172474,  48.22628627,  42.14027414,\n",
       "        96.91438332,  39.09726808, 100.97172474,  87.78536512,\n",
       "        13.7388842 ,  13.7388842 ,  37.06859737,   4.609866  ,\n",
       "        88.79970048,  91.84270654,  65.46998731,  74.59900551,\n",
       "        56.34096911,  15.76755491,   4.609866  ,  27.93957917,\n",
       "        92.8570419 ,  46.19761556,  54.3122984 ,  39.09726808,\n",
       "        44.16894485,  30.98258524,  68.51299337,  86.77102977,\n",
       "        90.82837119,  38.08293272,  20.83923168,  95.90004796,\n",
       "        56.34096911,  60.39831053,  65.46998731,  78.65634693,\n",
       "        89.81403583,   5.62420136,  67.49865802,  36.05426201,\n",
       "        15.76755491, 100.97172474,  45.18328021,  73.58467015,\n",
       "        57.35530447,  19.82489633,  76.62767622,  34.0255913 ,\n",
       "        55.32663376,  72.57033479,  55.32663376,   7.65287207,\n",
       "        56.34096911,  72.57033479,  58.36963982,   5.62420136,\n",
       "        96.91438332,  22.86790239,  58.36963982,  22.86790239,\n",
       "        18.81056097,  24.8965731 ,  64.45565195,  20.83923168,\n",
       "        59.38397518,  18.81056097,  15.76755491,  42.14027414,\n",
       "        43.1546095 ,  61.41264589,  92.8570419 ,  10.69587813,\n",
       "        41.12593879,   0.55252458,   7.65287207,  71.55599944,\n",
       "        46.19761556,  55.32663376,  62.42698124,  47.21195092])"
      ]
     },
     "execution_count": 35,
     "metadata": {},
     "output_type": "execute_result"
    }
   ],
   "source": [
    "pred1"
   ]
  },
  {
   "cell_type": "code",
   "execution_count": 90,
   "id": "0ee9adb1",
   "metadata": {},
   "outputs": [
    {
     "data": {
      "image/png": "[encoded data removed]",
      "text/plain": [
       "<Figure size 432x288 with 1 Axes>"
      ]
     },
     "metadata": {
      "needs_background": "light"
     },
     "output_type": "display_data"
    }
   ],
   "source": [
    "plt.scatter(xtest,pred1,marker='*',color='cyan',linewidths=5)\n",
    "plt.xlabel('X',size=20,color='red')\n",
    "plt.ylabel('Y',size=20,color='red')\n",
    "plt.plot(xtest.squeeze() , lr.predict(xtest), color='blue')\n",
    "plt.title('Predicted outpot of test data',size=20,color='black');"
   ]
  },
  {
   "cell_type": "code",
   "execution_count": null,
   "id": "96a84987",
   "metadata": {},
   "outputs": [],
   "source": []
  },
  {
   "cell_type": "code",
   "execution_count": null,
   "id": "5b9b4622",
   "metadata": {},
   "outputs": [],
   "source": []
  }
 ],
 "metadata": {
  "kernelspec": {
   "display_name": "Python 3 (ipykernel)",
   "language": "python",
   "name": "python3"
  },
  "language_info": {
   "codemirror_mode": {
    "name": "ipython",
    "version": 3
   },
   "file_extension": ".py",
   "mimetype": "text/x-python",
   "name": "python",
   "nbconvert_exporter": "python",
   "pygments_lexer": "ipython3",
   "version": "3.9.12"
  }
 },
 "nbformat": 4,
 "nbformat_minor": 5
}
